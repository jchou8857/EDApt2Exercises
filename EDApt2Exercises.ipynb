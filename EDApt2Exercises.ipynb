{
  "metadata": {
    "celltoolbar": "Raw Cell Format",
    "kernelspec": {
      "name": "python",
      "display_name": "Python (Pyodide)",
      "language": "python"
    },
    "language_info": {
      "codemirror_mode": {
        "name": "python",
        "version": 3
      },
      "file_extension": ".py",
      "mimetype": "text/x-python",
      "name": "python",
      "nbconvert_exporter": "python",
      "pygments_lexer": "ipython3",
      "version": "3.8"
    }
  },
  "nbformat_minor": 5,
  "nbformat": 4,
  "cells": [
    {
      "cell_type": "markdown",
      "source": "# How to calculate summary statistics?\n\nFollow along with this [article](https://pandas.pydata.org/pandas-docs/stable/getting_started/intro_tutorials/06_calculate_statistics.html). The data set from the article has been included in the repository already, no need to download separately. This notebook will also contain some supplemental information to help you better understand basic summary statistics.\n\nFirst thing we want to do is to import the pandas library.",
      "metadata": {
        "raw_mimetype": "text/markdown"
      },
      "id": "90ae45ab"
    },
    {
      "cell_type": "code",
      "source": "# import the pandas library and use the alias 'pd'\nimport pandas as pd",
      "metadata": {},
      "execution_count": null,
      "outputs": [],
      "id": "9d3c3b53"
    },
    {
      "cell_type": "markdown",
      "source": "We are going to be working with the titanic dataset found [here.](https://github.com/pandas-dev/pandas/blob/master/doc/data/titanic.csv) It is in csv format and consists fo the following data columns:",
      "metadata": {},
      "id": "fe80ce4e"
    },
    {
      "cell_type": "markdown",
      "source": "\n- PassengerId: Id of every passenger.\n- Survived: Value of 0 for not survived and 1 for survived.\n- Pclass: There are 3 classes: Class 1, Class 2 and Class 3.\n- Name: Name of passenger.\n- Sex: Gender of passenger.\n- Age: Age of passenger.\n- SibSp: Number of siblings / spouses on the Titanic\n- Parch: Number of parents / children on the Titanic\n- Ticket: Ticket number of passenger.\n- Fare: Indicating the fare.\n- Cabin: The cabin of passenger.\n- Embarked: Port of Embarkation ( C = Cherbourg, Q = Queenstown, S = Southampton)\n\nLet's load the data into a data frame and see what the data looks like. Since your csv file is in a folder named data, the path syntex is: data/your_data_set_name.csv to read your data into a data frame.",
      "metadata": {},
      "id": "6266b04d"
    },
    {
      "cell_type": "code",
      "source": "#read titantic data set into a data frame\nimport pandas as pd\ntitanic = pd.read_csv(\"data/titanic.csv\")\n\n#although we listed the column names above, write the code to return the name of all of your columns in the dataset\ntitanic.head()",
      "metadata": {
        "trusted": true
      },
      "execution_count": 5,
      "outputs": [
        {
          "execution_count": 5,
          "output_type": "execute_result",
          "data": {
            "text/plain": "   PassengerId  Survived  Pclass  \\\n0            1         0       3   \n1            2         1       1   \n2            3         1       3   \n3            4         1       1   \n4            5         0       3   \n\n                                                Name     Sex   Age  SibSp  \\\n0                            Braund, Mr. Owen Harris    male  22.0      1   \n1  Cumings, Mrs. John Bradley (Florence Briggs Th...  female  38.0      1   \n2                             Heikkinen, Miss. Laina  female  26.0      0   \n3       Futrelle, Mrs. Jacques Heath (Lily May Peel)  female  35.0      1   \n4                           Allen, Mr. William Henry    male  35.0      0   \n\n   Parch            Ticket     Fare Cabin Embarked  \n0      0         A/5 21171   7.2500   NaN        S  \n1      0          PC 17599  71.2833   C85        C  \n2      0  STON/O2. 3101282   7.9250   NaN        S  \n3      0            113803  53.1000  C123        S  \n4      0            373450   8.0500   NaN        S  ",
            "text/html": "<div>\n<style scoped>\n    .dataframe tbody tr th:only-of-type {\n        vertical-align: middle;\n    }\n\n    .dataframe tbody tr th {\n        vertical-align: top;\n    }\n\n    .dataframe thead th {\n        text-align: right;\n    }\n</style>\n<table border=\"1\" class=\"dataframe\">\n  <thead>\n    <tr style=\"text-align: right;\">\n      <th></th>\n      <th>PassengerId</th>\n      <th>Survived</th>\n      <th>Pclass</th>\n      <th>Name</th>\n      <th>Sex</th>\n      <th>Age</th>\n      <th>SibSp</th>\n      <th>Parch</th>\n      <th>Ticket</th>\n      <th>Fare</th>\n      <th>Cabin</th>\n      <th>Embarked</th>\n    </tr>\n  </thead>\n  <tbody>\n    <tr>\n      <th>0</th>\n      <td>1</td>\n      <td>0</td>\n      <td>3</td>\n      <td>Braund, Mr. Owen Harris</td>\n      <td>male</td>\n      <td>22.0</td>\n      <td>1</td>\n      <td>0</td>\n      <td>A/5 21171</td>\n      <td>7.2500</td>\n      <td>NaN</td>\n      <td>S</td>\n    </tr>\n    <tr>\n      <th>1</th>\n      <td>2</td>\n      <td>1</td>\n      <td>1</td>\n      <td>Cumings, Mrs. John Bradley (Florence Briggs Th...</td>\n      <td>female</td>\n      <td>38.0</td>\n      <td>1</td>\n      <td>0</td>\n      <td>PC 17599</td>\n      <td>71.2833</td>\n      <td>C85</td>\n      <td>C</td>\n    </tr>\n    <tr>\n      <th>2</th>\n      <td>3</td>\n      <td>1</td>\n      <td>3</td>\n      <td>Heikkinen, Miss. Laina</td>\n      <td>female</td>\n      <td>26.0</td>\n      <td>0</td>\n      <td>0</td>\n      <td>STON/O2. 3101282</td>\n      <td>7.9250</td>\n      <td>NaN</td>\n      <td>S</td>\n    </tr>\n    <tr>\n      <th>3</th>\n      <td>4</td>\n      <td>1</td>\n      <td>1</td>\n      <td>Futrelle, Mrs. Jacques Heath (Lily May Peel)</td>\n      <td>female</td>\n      <td>35.0</td>\n      <td>1</td>\n      <td>0</td>\n      <td>113803</td>\n      <td>53.1000</td>\n      <td>C123</td>\n      <td>S</td>\n    </tr>\n    <tr>\n      <th>4</th>\n      <td>5</td>\n      <td>0</td>\n      <td>3</td>\n      <td>Allen, Mr. William Henry</td>\n      <td>male</td>\n      <td>35.0</td>\n      <td>0</td>\n      <td>0</td>\n      <td>373450</td>\n      <td>8.0500</td>\n      <td>NaN</td>\n      <td>S</td>\n    </tr>\n  </tbody>\n</table>\n</div>"
          },
          "metadata": {}
        }
      ],
      "id": "a7383c72"
    },
    {
      "cell_type": "code",
      "source": "# print the first 5 rows from the dataframe\nprint(titanic.head())",
      "metadata": {
        "scrolled": true,
        "trusted": true
      },
      "execution_count": 6,
      "outputs": [
        {
          "name": "stdout",
          "text": "   PassengerId  Survived  Pclass  \\\n0            1         0       3   \n1            2         1       1   \n2            3         1       3   \n3            4         1       1   \n4            5         0       3   \n\n                                                Name     Sex   Age  SibSp  \\\n0                            Braund, Mr. Owen Harris    male  22.0      1   \n1  Cumings, Mrs. John Bradley (Florence Briggs Th...  female  38.0      1   \n2                             Heikkinen, Miss. Laina  female  26.0      0   \n3       Futrelle, Mrs. Jacques Heath (Lily May Peel)  female  35.0      1   \n4                           Allen, Mr. William Henry    male  35.0      0   \n\n   Parch            Ticket     Fare Cabin Embarked  \n0      0         A/5 21171   7.2500   NaN        S  \n1      0          PC 17599  71.2833   C85        C  \n2      0  STON/O2. 3101282   7.9250   NaN        S  \n3      0            113803  53.1000  C123        S  \n4      0            373450   8.0500   NaN        S  \n",
          "output_type": "stream"
        }
      ],
      "id": "13e52049"
    },
    {
      "cell_type": "markdown",
      "source": "What are some of your observations from looking at the data so far? Questions you would like to explore?\n\nFor example: I noticed that Survived is an int instead of Yes or No, not sure if I'll need to address that while data cleaning. I'm curious if the amount you paid for your ticket(Fare) impacted your survival rate?\n<br><br><br><br><br>\n\n<i>Cabin location make a difference to survival? What is \"SibSp\" and \"Parch\"?</i>\n\n\n\n",
      "metadata": {
        "tags": []
      },
      "id": "5456e387"
    },
    {
      "cell_type": "code",
      "source": "#.info() returns: \n#name of the column, Non-null Count meaning how many non-null values their are in that column and Dtype\n#int64 means int value, float64 means float value, object means string value.\ntitanic.info()",
      "metadata": {
        "trusted": true
      },
      "execution_count": 10,
      "outputs": [
        {
          "name": "stdout",
          "text": "<class 'pandas.core.frame.DataFrame'>\nRangeIndex: 891 entries, 0 to 890\nData columns (total 12 columns):\n #   Column       Non-Null Count  Dtype  \n---  ------       --------------  -----  \n 0   PassengerId  891 non-null    int64  \n 1   Survived     891 non-null    int64  \n 2   Pclass       891 non-null    int64  \n 3   Name         891 non-null    object \n 4   Sex          891 non-null    object \n 5   Age          714 non-null    float64\n 6   SibSp        891 non-null    int64  \n 7   Parch        891 non-null    int64  \n 8   Ticket       891 non-null    object \n 9   Fare         891 non-null    float64\n 10  Cabin        204 non-null    object \n 11  Embarked     889 non-null    object \ndtypes: float64(2), int64(5), object(5)\nmemory usage: 66.2+ KB\n",
          "output_type": "stream"
        }
      ],
      "id": "0dc4c04a"
    },
    {
      "cell_type": "markdown",
      "source": "By default statistical anaysis is run on numerical values.  \n\nLooking at the data above what do you notice about Age? Cabin? Hint: It would appear we are missing some data. How might these observations influence the questions asked?<br><br>\n\n<i>Age and cabin number are missing for a lot of passengers (177 and 687 respectively).</i>\n\nAny other observations?\n<br><br><br>",
      "metadata": {
        "tags": []
      },
      "id": "898bf46c"
    },
    {
      "cell_type": "markdown",
      "source": "## Aggregating statistics",
      "metadata": {
        "tags": []
      },
      "id": "4c7c0618"
    },
    {
      "cell_type": "markdown",
      "source": "### Calculating Mean, Median, Mode",
      "metadata": {
        "tags": []
      },
      "id": "6d7429ab"
    },
    {
      "cell_type": "markdown",
      "source": "#### Mean: is the sum of the values divided by the number of values.",
      "metadata": {},
      "id": "531231ed"
    },
    {
      "cell_type": "code",
      "source": "#What is the mean age of the Titanic passengers?\ntitanic[\"Age\"].mean()",
      "metadata": {
        "trusted": true
      },
      "execution_count": 11,
      "outputs": [
        {
          "execution_count": 11,
          "output_type": "execute_result",
          "data": {
            "text/plain": "29.69911764705882"
          },
          "metadata": {}
        }
      ],
      "id": "6c643af1"
    },
    {
      "cell_type": "markdown",
      "source": "We can also get the mean for all columns. ",
      "metadata": {},
      "id": "77fdd7e3"
    },
    {
      "cell_type": "code",
      "source": "#mean for all columns\ntitanic.mean()",
      "metadata": {
        "trusted": true
      },
      "execution_count": 12,
      "outputs": [
        {
          "name": "stderr",
          "text": "<ipython-input-12-b258a1f835b5>:2: FutureWarning: Dropping of nuisance columns in DataFrame reductions (with 'numeric_only=None') is deprecated; in a future version this will raise TypeError.  Select only valid columns before calling the reduction.\n  titanic.mean()\n",
          "output_type": "stream"
        },
        {
          "execution_count": 12,
          "output_type": "execute_result",
          "data": {
            "text/plain": "PassengerId    446.000000\nSurvived         0.383838\nPclass           2.308642\nAge             29.699118\nSibSp            0.523008\nParch            0.381594\nFare            32.204208\ndtype: float64"
          },
          "metadata": {}
        }
      ],
      "id": "8c257e27"
    },
    {
      "cell_type": "markdown",
      "source": "#### Median: Is the middle value when all the numbers are put in order, dividing the sample into two halves.  \n\nExample: (23, 46, 55, 78, 99)<br> \nThe Median of the above example is 55. ",
      "metadata": {},
      "id": "650ab22b"
    },
    {
      "cell_type": "code",
      "source": "# What is the median age and ticket fare price of the Titanic passengers?\ntitanic[[\"Age\", \"Fare\"]].median()",
      "metadata": {
        "trusted": true
      },
      "execution_count": 13,
      "outputs": [
        {
          "execution_count": 13,
          "output_type": "execute_result",
          "data": {
            "text/plain": "Age     28.0000\nFare    14.4542\ndtype: float64"
          },
          "metadata": {}
        }
      ],
      "id": "75c70181"
    },
    {
      "cell_type": "markdown",
      "source": "#### Mode: The most frequent value(s) in a sample",
      "metadata": {},
      "id": "12993336"
    },
    {
      "cell_type": "code",
      "source": "# What is the mode age and fare for the titanic dateset?\ntitanic[[\"Age\", \"Fare\"]].mode()\n",
      "metadata": {
        "trusted": true
      },
      "execution_count": 14,
      "outputs": [
        {
          "execution_count": 14,
          "output_type": "execute_result",
          "data": {
            "text/plain": "    Age  Fare\n0  24.0  8.05",
            "text/html": "<div>\n<style scoped>\n    .dataframe tbody tr th:only-of-type {\n        vertical-align: middle;\n    }\n\n    .dataframe tbody tr th {\n        vertical-align: top;\n    }\n\n    .dataframe thead th {\n        text-align: right;\n    }\n</style>\n<table border=\"1\" class=\"dataframe\">\n  <thead>\n    <tr style=\"text-align: right;\">\n      <th></th>\n      <th>Age</th>\n      <th>Fare</th>\n    </tr>\n  </thead>\n  <tbody>\n    <tr>\n      <th>0</th>\n      <td>24.0</td>\n      <td>8.05</td>\n    </tr>\n  </tbody>\n</table>\n</div>"
          },
          "metadata": {}
        }
      ],
      "id": "d21de9a8"
    },
    {
      "cell_type": "markdown",
      "source": "Note the difference between Mean, Medium and Mode.  Why is this important? Can you think of times you would what to use one over the others?<br><br><br><br><br>\n\n\n<i>Depends on what you are looking for. For example, an extreme outlier can make a mean less relevant to your interpretation of analysis. Heavy skew can inform the above values also.</i>\n\n",
      "metadata": {},
      "id": "8894202a"
    },
    {
      "cell_type": "markdown",
      "source": "We can use the .describe() funciton to display some basic statistics for all numeric columns:",
      "metadata": {},
      "id": "1089b8d7"
    },
    {
      "cell_type": "code",
      "source": "# Summary statistics for all columns in a dataset\ntitanic.describe()",
      "metadata": {
        "trusted": true
      },
      "execution_count": 15,
      "outputs": [
        {
          "execution_count": 15,
          "output_type": "execute_result",
          "data": {
            "text/plain": "       PassengerId    Survived      Pclass         Age       SibSp  \\\ncount   891.000000  891.000000  891.000000  714.000000  891.000000   \nmean    446.000000    0.383838    2.308642   29.699118    0.523008   \nstd     257.353842    0.486592    0.836071   14.526497    1.102743   \nmin       1.000000    0.000000    1.000000    0.420000    0.000000   \n25%     223.500000    0.000000    2.000000   20.125000    0.000000   \n50%     446.000000    0.000000    3.000000   28.000000    0.000000   \n75%     668.500000    1.000000    3.000000   38.000000    1.000000   \nmax     891.000000    1.000000    3.000000   80.000000    8.000000   \n\n            Parch        Fare  \ncount  891.000000  891.000000  \nmean     0.381594   32.204208  \nstd      0.806057   49.693429  \nmin      0.000000    0.000000  \n25%      0.000000    7.910400  \n50%      0.000000   14.454200  \n75%      0.000000   31.000000  \nmax      6.000000  512.329200  ",
            "text/html": "<div>\n<style scoped>\n    .dataframe tbody tr th:only-of-type {\n        vertical-align: middle;\n    }\n\n    .dataframe tbody tr th {\n        vertical-align: top;\n    }\n\n    .dataframe thead th {\n        text-align: right;\n    }\n</style>\n<table border=\"1\" class=\"dataframe\">\n  <thead>\n    <tr style=\"text-align: right;\">\n      <th></th>\n      <th>PassengerId</th>\n      <th>Survived</th>\n      <th>Pclass</th>\n      <th>Age</th>\n      <th>SibSp</th>\n      <th>Parch</th>\n      <th>Fare</th>\n    </tr>\n  </thead>\n  <tbody>\n    <tr>\n      <th>count</th>\n      <td>891.000000</td>\n      <td>891.000000</td>\n      <td>891.000000</td>\n      <td>714.000000</td>\n      <td>891.000000</td>\n      <td>891.000000</td>\n      <td>891.000000</td>\n    </tr>\n    <tr>\n      <th>mean</th>\n      <td>446.000000</td>\n      <td>0.383838</td>\n      <td>2.308642</td>\n      <td>29.699118</td>\n      <td>0.523008</td>\n      <td>0.381594</td>\n      <td>32.204208</td>\n    </tr>\n    <tr>\n      <th>std</th>\n      <td>257.353842</td>\n      <td>0.486592</td>\n      <td>0.836071</td>\n      <td>14.526497</td>\n      <td>1.102743</td>\n      <td>0.806057</td>\n      <td>49.693429</td>\n    </tr>\n    <tr>\n      <th>min</th>\n      <td>1.000000</td>\n      <td>0.000000</td>\n      <td>1.000000</td>\n      <td>0.420000</td>\n      <td>0.000000</td>\n      <td>0.000000</td>\n      <td>0.000000</td>\n    </tr>\n    <tr>\n      <th>25%</th>\n      <td>223.500000</td>\n      <td>0.000000</td>\n      <td>2.000000</td>\n      <td>20.125000</td>\n      <td>0.000000</td>\n      <td>0.000000</td>\n      <td>7.910400</td>\n    </tr>\n    <tr>\n      <th>50%</th>\n      <td>446.000000</td>\n      <td>0.000000</td>\n      <td>3.000000</td>\n      <td>28.000000</td>\n      <td>0.000000</td>\n      <td>0.000000</td>\n      <td>14.454200</td>\n    </tr>\n    <tr>\n      <th>75%</th>\n      <td>668.500000</td>\n      <td>1.000000</td>\n      <td>3.000000</td>\n      <td>38.000000</td>\n      <td>1.000000</td>\n      <td>0.000000</td>\n      <td>31.000000</td>\n    </tr>\n    <tr>\n      <th>max</th>\n      <td>891.000000</td>\n      <td>1.000000</td>\n      <td>3.000000</td>\n      <td>80.000000</td>\n      <td>8.000000</td>\n      <td>6.000000</td>\n      <td>512.329200</td>\n    </tr>\n  </tbody>\n</table>\n</div>"
          },
          "metadata": {}
        }
      ],
      "id": "cf48f48d"
    },
    {
      "cell_type": "code",
      "source": "# Summary statistics for just the Age and Fare columns\ntitanic[[\"Age\", \"Fare\"]].describe()",
      "metadata": {
        "trusted": true
      },
      "execution_count": 16,
      "outputs": [
        {
          "execution_count": 16,
          "output_type": "execute_result",
          "data": {
            "text/plain": "              Age        Fare\ncount  714.000000  891.000000\nmean    29.699118   32.204208\nstd     14.526497   49.693429\nmin      0.420000    0.000000\n25%     20.125000    7.910400\n50%     28.000000   14.454200\n75%     38.000000   31.000000\nmax     80.000000  512.329200",
            "text/html": "<div>\n<style scoped>\n    .dataframe tbody tr th:only-of-type {\n        vertical-align: middle;\n    }\n\n    .dataframe tbody tr th {\n        vertical-align: top;\n    }\n\n    .dataframe thead th {\n        text-align: right;\n    }\n</style>\n<table border=\"1\" class=\"dataframe\">\n  <thead>\n    <tr style=\"text-align: right;\">\n      <th></th>\n      <th>Age</th>\n      <th>Fare</th>\n    </tr>\n  </thead>\n  <tbody>\n    <tr>\n      <th>count</th>\n      <td>714.000000</td>\n      <td>891.000000</td>\n    </tr>\n    <tr>\n      <th>mean</th>\n      <td>29.699118</td>\n      <td>32.204208</td>\n    </tr>\n    <tr>\n      <th>std</th>\n      <td>14.526497</td>\n      <td>49.693429</td>\n    </tr>\n    <tr>\n      <th>min</th>\n      <td>0.420000</td>\n      <td>0.000000</td>\n    </tr>\n    <tr>\n      <th>25%</th>\n      <td>20.125000</td>\n      <td>7.910400</td>\n    </tr>\n    <tr>\n      <th>50%</th>\n      <td>28.000000</td>\n      <td>14.454200</td>\n    </tr>\n    <tr>\n      <th>75%</th>\n      <td>38.000000</td>\n      <td>31.000000</td>\n    </tr>\n    <tr>\n      <th>max</th>\n      <td>80.000000</td>\n      <td>512.329200</td>\n    </tr>\n  </tbody>\n</table>\n</div>"
          },
          "metadata": {}
        }
      ],
      "id": "807896f0"
    },
    {
      "cell_type": "markdown",
      "source": "Notice that medium and mode are not included in .describe()\n\nInstead of the predefined statistics, specific combinations of aggregating statistics for given columns can be defined using the [DataFrame.agg() method:](https://pandas.pydata.org/pandas-docs/stable/reference/api/pandas.DataFrame.agg.html#pandas.DataFrame.agg)",
      "metadata": {},
      "id": "87bd507a"
    },
    {
      "cell_type": "code",
      "source": "#use .agg\ntitanic.agg({\n        \"Age\": [\"min\", \"max\", \"median\", \"skew\"],\n        \"Fare\": [\"min\", \"max\", \"median\", \"mean\"],\n    })",
      "metadata": {
        "trusted": true
      },
      "execution_count": 19,
      "outputs": [
        {
          "execution_count": 19,
          "output_type": "execute_result",
          "data": {
            "text/plain": "              Age        Fare\nmin      0.420000    0.000000\nmax     80.000000  512.329200\nmedian  28.000000   14.454200\nskew     0.389108         NaN\nmean          NaN   32.204208",
            "text/html": "<div>\n<style scoped>\n    .dataframe tbody tr th:only-of-type {\n        vertical-align: middle;\n    }\n\n    .dataframe tbody tr th {\n        vertical-align: top;\n    }\n\n    .dataframe thead th {\n        text-align: right;\n    }\n</style>\n<table border=\"1\" class=\"dataframe\">\n  <thead>\n    <tr style=\"text-align: right;\">\n      <th></th>\n      <th>Age</th>\n      <th>Fare</th>\n    </tr>\n  </thead>\n  <tbody>\n    <tr>\n      <th>min</th>\n      <td>0.420000</td>\n      <td>0.000000</td>\n    </tr>\n    <tr>\n      <th>max</th>\n      <td>80.000000</td>\n      <td>512.329200</td>\n    </tr>\n    <tr>\n      <th>median</th>\n      <td>28.000000</td>\n      <td>14.454200</td>\n    </tr>\n    <tr>\n      <th>skew</th>\n      <td>0.389108</td>\n      <td>NaN</td>\n    </tr>\n    <tr>\n      <th>mean</th>\n      <td>NaN</td>\n      <td>32.204208</td>\n    </tr>\n  </tbody>\n</table>\n</div>"
          },
          "metadata": {}
        }
      ],
      "id": "bc9fd691"
    },
    {
      "cell_type": "markdown",
      "source": "## Aggregating statistics grouped by category",
      "metadata": {},
      "id": "1819249b"
    },
    {
      "cell_type": "markdown",
      "source": "Calculating a given statistic (e.g. mean age) for each category in a column (e.g. male/female in the Sex column) is a common pattern. The groupby method is used to support this type of operations. ",
      "metadata": {},
      "id": "28129c8e"
    },
    {
      "cell_type": "code",
      "source": "# What is the average age for male versus female Titanic passengers?\ntitanic[[\"Sex\", \"Age\"]].groupby(\"Sex\").mean()",
      "metadata": {
        "scrolled": true,
        "trusted": true
      },
      "execution_count": 20,
      "outputs": [
        {
          "execution_count": 20,
          "output_type": "execute_result",
          "data": {
            "text/plain": "              Age\nSex              \nfemale  27.915709\nmale    30.726645",
            "text/html": "<div>\n<style scoped>\n    .dataframe tbody tr th:only-of-type {\n        vertical-align: middle;\n    }\n\n    .dataframe tbody tr th {\n        vertical-align: top;\n    }\n\n    .dataframe thead th {\n        text-align: right;\n    }\n</style>\n<table border=\"1\" class=\"dataframe\">\n  <thead>\n    <tr style=\"text-align: right;\">\n      <th></th>\n      <th>Age</th>\n    </tr>\n    <tr>\n      <th>Sex</th>\n      <th></th>\n    </tr>\n  </thead>\n  <tbody>\n    <tr>\n      <th>female</th>\n      <td>27.915709</td>\n    </tr>\n    <tr>\n      <th>male</th>\n      <td>30.726645</td>\n    </tr>\n  </tbody>\n</table>\n</div>"
          },
          "metadata": {}
        }
      ],
      "id": "ae223f7c"
    },
    {
      "cell_type": "code",
      "source": "# What is the survival of men verses female Titanic Passengers? \ntitanic[[\"Sex\",\"Survived\"]].groupby(\"Sex\").mean(numeric_only=True)\n",
      "metadata": {
        "trusted": true
      },
      "execution_count": 29,
      "outputs": [
        {
          "execution_count": 29,
          "output_type": "execute_result",
          "data": {
            "text/plain": "        Survived\nSex             \nfemale  0.742038\nmale    0.188908",
            "text/html": "<div>\n<style scoped>\n    .dataframe tbody tr th:only-of-type {\n        vertical-align: middle;\n    }\n\n    .dataframe tbody tr th {\n        vertical-align: top;\n    }\n\n    .dataframe thead th {\n        text-align: right;\n    }\n</style>\n<table border=\"1\" class=\"dataframe\">\n  <thead>\n    <tr style=\"text-align: right;\">\n      <th></th>\n      <th>Survived</th>\n    </tr>\n    <tr>\n      <th>Sex</th>\n      <th></th>\n    </tr>\n  </thead>\n  <tbody>\n    <tr>\n      <th>female</th>\n      <td>0.742038</td>\n    </tr>\n    <tr>\n      <th>male</th>\n      <td>0.188908</td>\n    </tr>\n  </tbody>\n</table>\n</div>"
          },
          "metadata": {}
        }
      ],
      "id": "c734ba4e"
    },
    {
      "cell_type": "code",
      "source": "# Try some other combinations, what do you think about this method?\n\ntitanic[[\"Pclass\",\"Survived\"]].groupby(\"Pclass\").mean(numeric_only=True)\n\n\n\n",
      "metadata": {
        "trusted": true
      },
      "execution_count": 34,
      "outputs": [
        {
          "execution_count": 34,
          "output_type": "execute_result",
          "data": {
            "text/plain": "        Survived\nPclass          \n1       0.629630\n2       0.472826\n3       0.242363",
            "text/html": "<div>\n<style scoped>\n    .dataframe tbody tr th:only-of-type {\n        vertical-align: middle;\n    }\n\n    .dataframe tbody tr th {\n        vertical-align: top;\n    }\n\n    .dataframe thead th {\n        text-align: right;\n    }\n</style>\n<table border=\"1\" class=\"dataframe\">\n  <thead>\n    <tr style=\"text-align: right;\">\n      <th></th>\n      <th>Survived</th>\n    </tr>\n    <tr>\n      <th>Pclass</th>\n      <th></th>\n    </tr>\n  </thead>\n  <tbody>\n    <tr>\n      <th>1</th>\n      <td>0.629630</td>\n    </tr>\n    <tr>\n      <th>2</th>\n      <td>0.472826</td>\n    </tr>\n    <tr>\n      <th>3</th>\n      <td>0.242363</td>\n    </tr>\n  </tbody>\n</table>\n</div>"
          },
          "metadata": {}
        }
      ],
      "id": "7ea45273"
    },
    {
      "cell_type": "markdown",
      "source": "In the previous examples, we explicitly selected the 2 columns first. If not, the mean method is applied to each column containing numerical columns:",
      "metadata": {},
      "id": "066ba694"
    },
    {
      "cell_type": "code",
      "source": "#use .groupby Sex and .mean\ntitanic.groupby([\"Sex\"])[\"Fare\"].mean()",
      "metadata": {
        "trusted": true
      },
      "execution_count": 50,
      "outputs": [
        {
          "execution_count": 50,
          "output_type": "execute_result",
          "data": {
            "text/plain": "Sex\nfemale    44.479818\nmale      25.523893\nName: Fare, dtype: float64"
          },
          "metadata": {}
        }
      ],
      "id": "8ac2debe"
    },
    {
      "cell_type": "code",
      "source": "titanic.groupby([\"Sex\"])[\"Fare\"].median()",
      "metadata": {
        "trusted": true
      },
      "execution_count": 51,
      "outputs": [
        {
          "execution_count": 51,
          "output_type": "execute_result",
          "data": {
            "text/plain": "Sex\nfemale    23.0\nmale      10.5\nName: Fare, dtype: float64"
          },
          "metadata": {}
        }
      ],
      "id": "01077b93-8181-4226-b80c-152ef313897c"
    },
    {
      "cell_type": "markdown",
      "source": "It does not make much sense to get the average value of the Pclass. if we are only interested in the average age for each gender, the selection of columns (rectangular brackets [] as usual) is supported on the grouped data as well:",
      "metadata": {},
      "id": "00bf525e"
    },
    {
      "cell_type": "code",
      "source": "#use .goupby Sex just for Age \ntitanic.groupby([\"Sex\"])[\"Age\"].median()",
      "metadata": {
        "trusted": true
      },
      "execution_count": 45,
      "outputs": [
        {
          "execution_count": 45,
          "output_type": "execute_result",
          "data": {
            "text/plain": "Sex\nfemale    27.0\nmale      29.0\nName: Age, dtype: float64"
          },
          "metadata": {}
        }
      ],
      "id": "4f6729a2"
    },
    {
      "cell_type": "code",
      "source": "# What is the mean ticket fare price for each of the sex and cabin class combinations?\ntitanic.groupby([\"Sex\",\"Pclass\"])[\"Fare\"].mean()",
      "metadata": {
        "trusted": true
      },
      "execution_count": 53,
      "outputs": [
        {
          "execution_count": 53,
          "output_type": "execute_result",
          "data": {
            "text/plain": "Sex     Pclass\nfemale  1         106.125798\n        2          21.970121\n        3          16.118810\nmale    1          67.226127\n        2          19.741782\n        3          12.661633\nName: Fare, dtype: float64"
          },
          "metadata": {}
        }
      ],
      "id": "cdcdc983"
    },
    {
      "cell_type": "code",
      "source": "# Try some other combinations, what do you think about this method?\ntitanic.groupby([\"Sex\",\"Pclass\"])[\"Fare\"].median()\n# Why are women in first class paying through the roof for ticket fares?\n# Also, .groupby().mode()is not available?",
      "metadata": {
        "trusted": true
      },
      "execution_count": 54,
      "outputs": [
        {
          "execution_count": 54,
          "output_type": "execute_result",
          "data": {
            "text/plain": "Sex     Pclass\nfemale  1         82.66455\n        2         22.00000\n        3         12.47500\nmale    1         41.26250\n        2         13.00000\n        3          7.92500\nName: Fare, dtype: float64"
          },
          "metadata": {}
        }
      ],
      "id": "2d734ef2"
    },
    {
      "cell_type": "markdown",
      "source": "## Count number of records by category\n\nThe value_counts() method counts the number of records for each category in a column.",
      "metadata": {},
      "id": "69e40dfa"
    },
    {
      "cell_type": "code",
      "source": "# What is the number of passengers in each of the cabin classes?\ntitanic[\"Pclass\"].value_counts()",
      "metadata": {
        "trusted": true
      },
      "execution_count": 55,
      "outputs": [
        {
          "execution_count": 55,
          "output_type": "execute_result",
          "data": {
            "text/plain": "3    491\n1    216\n2    184\nName: Pclass, dtype: int64"
          },
          "metadata": {}
        }
      ],
      "id": "c167e6b8"
    },
    {
      "cell_type": "markdown",
      "source": "The function is a shortcut, as it is actually a groupby operation in combination with counting of the number of records within each group:",
      "metadata": {},
      "id": "56219768"
    },
    {
      "cell_type": "code",
      "source": "#Count the number of passengers by cabin classes using groupby\ntitanic.groupby(\"Pclass\")[\"Pclass\"].count()",
      "metadata": {
        "trusted": true
      },
      "execution_count": 56,
      "outputs": [
        {
          "execution_count": 56,
          "output_type": "execute_result",
          "data": {
            "text/plain": "Pclass\n1    216\n2    184\n3    491\nName: Pclass, dtype: int64"
          },
          "metadata": {}
        }
      ],
      "id": "950f5c70"
    },
    {
      "cell_type": "code",
      "source": "# Using the value_counts method what else could you count?\ntitanic[\"Survived\"].value_counts()\n\n\n\n",
      "metadata": {
        "trusted": true
      },
      "execution_count": 57,
      "outputs": [
        {
          "execution_count": 57,
          "output_type": "execute_result",
          "data": {
            "text/plain": "0    549\n1    342\nName: Survived, dtype: int64"
          },
          "metadata": {}
        }
      ],
      "id": "e822526a"
    },
    {
      "cell_type": "code",
      "source": "",
      "metadata": {},
      "execution_count": null,
      "outputs": [],
      "id": "44a3aa31-6a33-435d-a589-8c999aa7e8e7"
    }
  ]
}